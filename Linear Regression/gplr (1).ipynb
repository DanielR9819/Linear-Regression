{
    "metadata": {
        "kernelspec": {
            "name": "python3",
            "display_name": "Python 3 (ipykernel)",
            "language": "python"
        }
    },
    "nbformat": 4,
    "nbformat_minor": 2,
    "cells": [
        {
            "attachments": {},
            "cell_type": "markdown",
            "metadata": {},
            "source": [
                "# Linear Regression"
            ]
        },
        {
            "cell_type": "code",
            "execution_count": 1,
            "metadata": {},
            "outputs": [],
            "source": [
                "# Library Imports\n",
                "import pandas as pd\n",
                "import numpy as np\n",
                "import sklearn\n",
                "import matplotlib.pyplot as pyplot\n",
                "import pickle\n",
                "from sklearn import linear_model\n",
                "from sklearn.utils import shuffle\n",
                "from matplotlib import style"
            ]
        },
        {
            "cell_type": "code",
            "execution_count": 2,
            "metadata": {},
            "outputs": [],
            "source": [
                "data = pd.read_csv(\"student-mat.csv\", sep=\";\")\n",
                "print(data)"
            ]
        },
        {
            "cell_type": "code",
            "execution_count": 3,
            "metadata": {},
            "outputs": [],
            "source": [
                "data = data[[\"G1\", \"G2\", \"G3\", \"studytime\", \"failures\", \"absences\"]]\n",
                "print(data.head())"
            ]
        },
        {
            "cell_type": "code",
            "execution_count": 4,
            "metadata": {},
            "outputs": [],
            "source": [
                "predict = \"G3\"\n",
                "\n",
                "x = np.array(data.drop(predict, axis=1))\n",
                "y = np.array(data[predict])"
            ]
        },
        {
            "cell_type": "code",
            "execution_count": 5,
            "metadata": {},
            "outputs": [],
            "source": [
                "#Split the data set into the train and test sets\n",
                "x_train, x_test, y_train, y_test = sklearn.model_selection.train_test_split(x, y, test_size=0.1)"
            ]
        },
        {
            "cell_type": "code",
            "execution_count": 6,
            "metadata": {},
            "outputs": [],
            "source": [
                "linear = linear_model.LinearRegression()\n",
                "\n",
                "#Define the line of best fit\n",
                "linear.fit(x_train, y_train)\n",
                "acc = linear.score(x_test, y_test)\n",
                "print(acc)"
            ]
        },
        {
            "cell_type": "code",
            "execution_count": 7,
            "metadata": {},
            "outputs": [],
            "source": [
                "with open(\"studentmodel.pickle\", \"wb\") as f:\n",
                "    pickle.dump(linear, f)"
            ]
        },
        {
            "cell_type": "code",
            "execution_count": 8,
            "metadata": {},
            "outputs": [],
            "source": [
                "pickle_in = open(\"studentmodel.pickle\", \"rb\")\n",
                "linear = pickle.load(pickle_in)"
            ]
        },
        {
            "cell_type": "code",
            "execution_count": 9,
            "metadata": {},
            "outputs": [],
            "source": [
                "print('coefficient: \\n', linear.coef_)\n",
                "print('coefficient: \\n', linear.intercept_)"
            ]
        },
        {
            "cell_type": "code",
            "execution_count": 10,
            "metadata": {},
            "outputs": [],
            "source": [
                "predictions = linear.predict(x_test)\n",
                "\n",
                "for x in range(len(predictions)):\n",
                "    print(predictions[x], x_test[x], y_test[x])"
            ]
        },
        {
            "cell_type": "code",
            "execution_count": 11,
            "metadata": {},
            "outputs": [],
            "source": [
                "style.use(\"ggplot\")\n",
                "\n",
                "# set up scatter pyplo\n",
                "p = \"G2\"\n",
                "pyplot.scatter(data[p], data[\"G3\"])\n",
                "pyplot.xlabel(p)\n",
                "pyplot.ylabel(\"Final Grade\")\n",
                "pyplot.show()"
            ]
        }
    ]
}
